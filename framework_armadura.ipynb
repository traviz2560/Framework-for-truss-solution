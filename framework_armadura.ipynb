{
  "nbformat": 4,
  "nbformat_minor": 0,
  "metadata": {
    "colab": {
      "provenance": [],
      "toc_visible": true
    },
    "kernelspec": {
      "name": "python3",
      "display_name": "Python 3"
    },
    "language_info": {
      "name": "python"
    }
  },
  "cells": [
    {
      "cell_type": "markdown",
      "source": [
        "#Librerias"
      ],
      "metadata": {
        "id": "vBCb0W5o7Sbe"
      }
    },
    {
      "cell_type": "code",
      "source": [
        "pip install mpltools"
      ],
      "metadata": {
        "colab": {
          "base_uri": "https://localhost:8080/"
        },
        "id": "XBg8mIk3AjMD",
        "outputId": "5280a4a1-b0c3-4fad-c3fc-429a7c41d347"
      },
      "execution_count": null,
      "outputs": [
        {
          "output_type": "stream",
          "name": "stdout",
          "text": [
            "Collecting mpltools\n",
            "  Downloading mpltools-0.2.0.tar.gz (27 kB)\n",
            "Requirement already satisfied: matplotlib>=1.0 in /usr/local/lib/python3.7/dist-packages (from mpltools) (3.2.2)\n",
            "Collecting configobj>=4.4.0\n",
            "  Downloading configobj-5.0.6.tar.gz (33 kB)\n",
            "Requirement already satisfied: future>=0.12.4 in /usr/local/lib/python3.7/dist-packages (from mpltools) (0.16.0)\n",
            "Requirement already satisfied: six in /usr/local/lib/python3.7/dist-packages (from configobj>=4.4.0->mpltools) (1.15.0)\n",
            "Requirement already satisfied: cycler>=0.10 in /usr/local/lib/python3.7/dist-packages (from matplotlib>=1.0->mpltools) (0.11.0)\n",
            "Requirement already satisfied: numpy>=1.11 in /usr/local/lib/python3.7/dist-packages (from matplotlib>=1.0->mpltools) (1.19.5)\n",
            "Requirement already satisfied: python-dateutil>=2.1 in /usr/local/lib/python3.7/dist-packages (from matplotlib>=1.0->mpltools) (2.8.2)\n",
            "Requirement already satisfied: kiwisolver>=1.0.1 in /usr/local/lib/python3.7/dist-packages (from matplotlib>=1.0->mpltools) (1.3.2)\n",
            "Requirement already satisfied: pyparsing!=2.0.4,!=2.1.2,!=2.1.6,>=2.0.1 in /usr/local/lib/python3.7/dist-packages (from matplotlib>=1.0->mpltools) (3.0.7)\n",
            "Building wheels for collected packages: mpltools, configobj\n",
            "  Building wheel for mpltools (setup.py) ... \u001b[?25l\u001b[?25hdone\n",
            "  Created wheel for mpltools: filename=mpltools-0.2.0-py3-none-any.whl size=35696 sha256=225953abb8224b87f3ed803e748e74dfa573332a4e845817e1a49a473ea22e6c\n",
            "  Stored in directory: /root/.cache/pip/wheels/db/21/6a/cb60d2b6d5b3b90c68ad3b193057e7af8d12560b433230dac1\n",
            "  Building wheel for configobj (setup.py) ... \u001b[?25l\u001b[?25hdone\n",
            "  Created wheel for configobj: filename=configobj-5.0.6-py3-none-any.whl size=34547 sha256=6271472854e190cbe22d614ff90788bbf0406633c77cc105d51d790872acef7a\n",
            "  Stored in directory: /root/.cache/pip/wheels/0d/c4/19/13d74440f2a571841db6b6e0a273694327498884dafb9cf978\n",
            "Successfully built mpltools configobj\n",
            "Installing collected packages: configobj, mpltools\n",
            "Successfully installed configobj-5.0.6 mpltools-0.2.0\n"
          ]
        }
      ]
    },
    {
      "cell_type": "code",
      "source": [
        "from IPython.display import display, Math, Markdown\n",
        "import matplotlib.pyplot as plt\n",
        "import numpy as np\n",
        "import sympy as sp\n",
        "import math\n",
        "from mpltools import color"
      ],
      "metadata": {
        "id": "brhlWrpK7VJO"
      },
      "execution_count": null,
      "outputs": []
    },
    {
      "cell_type": "markdown",
      "source": [
        "#BlockMeshDict"
      ],
      "metadata": {
        "id": "SYf7gejY2sDG"
      }
    },
    {
      "cell_type": "code",
      "source": [
        "#/*--------------------------------*Python3*----------------------------------*\\\n",
        "#  =========                 |\n",
        "#  \\\\      /  F inite        | OpenFEO:  blanck\n",
        "#   \\\\    /   E lements      | Website:  blanck\n",
        "#    \\\\  /    O peration     | Version:  1\n",
        "#     \\\\/                    |\n",
        "#\\*---------------------------------------------------------------------------*/\n",
        "convertToMeters = 1\n",
        "\n",
        "vertices = [(0,0),(1,0),(2,0),(2,1),(1,1),(0,1)]\n",
        "\n",
        "edges = [(0,1),(1,2),(2,3),(3,4),(4,5),(0,4),(1,5),(1,3),(2,4),(1,4)]\n",
        "\n",
        "boundary = [(0,1,1),(5,1,1)]"
      ],
      "metadata": {
        "id": "vdq0O83g20Jd"
      },
      "execution_count": null,
      "outputs": []
    },
    {
      "cell_type": "markdown",
      "source": [
        "Run BlockMeshDict"
      ],
      "metadata": {
        "id": "PBMSQb2R7G7W"
      }
    },
    {
      "cell_type": "code",
      "source": [
        "#@title Funciones\n",
        "\n",
        "def plot2(vertices,edges,boundary):\n",
        "  vertx = []\n",
        "  verty = []\n",
        "  boundx = []\n",
        "  boundy = []\n",
        "\n",
        "  for vi,vj in edges:\n",
        "    plot = np.vstack((vertices[vj],vertices[vi])).T\n",
        "    vertx.append(plot[0])\n",
        "    verty.append(plot[1])\n",
        "    \n",
        "  for i in boundary:\n",
        "    plot = vertices[i[0]]\n",
        "    boundx.append(plot[0])\n",
        "    boundy.append(plot[1])\n",
        "  \n",
        "  return vertx,verty,boundx,boundy\n",
        "\n",
        "def dist_ang(vertices,edges):\n",
        "  \n",
        "  L = []\n",
        "  A = []\n",
        "\n",
        "  for vi,vj in edges:\n",
        "    dv = vertices[vj]-vertices[vi]\n",
        "    l = np.linalg.norm(dv)\n",
        "    L.append(l)\n",
        "    a = np.arctan2(dv[1],dv[0])\n",
        "    A.append(a)\n",
        "  \n",
        "  L = np.array(L)\n",
        "  A = np.array(A)\n",
        "  return L,A\n",
        "\n",
        "def printmd(array,textprev=\"\",textpost=\"\",transpose=False):\n",
        "  array = sp.Matrix(array.round(3))\n",
        "  if transpose:\n",
        "    display(Markdown(\"$\"+textprev+sp.latex(array.T)+textpost+\"$\"))\n",
        "  else:\n",
        "    display(Markdown(\"$\"+textprev+sp.latex(array)+textpost+\"$\"))\n"
      ],
      "metadata": {
        "id": "80Rj4CuJ_bPW",
        "cellView": "form"
      },
      "execution_count": null,
      "outputs": []
    },
    {
      "cell_type": "code",
      "source": [
        "#@title Run\n",
        "\n",
        "vertices = np.array(vertices)*convertToMeters\n",
        "distances,angles = dist_ang(vertices,edges)"
      ],
      "metadata": {
        "id": "iL1_7Yop7Gjv"
      },
      "execution_count": null,
      "outputs": []
    },
    {
      "cell_type": "code",
      "source": [
        "# Resultados\n",
        "printmd(distances,\"L_{i}=\",transpose=True)\n",
        "printmd(angles*180/np.pi,\"\\\\theta_{i}=\",transpose=True)"
      ],
      "metadata": {
        "colab": {
          "base_uri": "https://localhost:8080/",
          "height": 77
        },
        "id": "wrZ7Zpu2C2BO",
        "outputId": "8289c9ec-98dd-4ca5-e5e6-26cf59e95143"
      },
      "execution_count": null,
      "outputs": [
        {
          "output_type": "display_data",
          "data": {
            "text/markdown": "$L_{i}=\\left[\\begin{matrix}1.0 & 1.0 & 1.0 & 1.0 & 1.0 & 1.414 & 1.414 & 1.414 & 1.414 & 1.0\\end{matrix}\\right]$",
            "text/plain": [
              "<IPython.core.display.Markdown object>"
            ]
          },
          "metadata": {}
        },
        {
          "output_type": "display_data",
          "data": {
            "text/markdown": "$\\theta_{i}=\\left[\\begin{matrix}0.0 & 0.0 & 90.0 & 180.0 & 180.0 & 45.0 & 135.0 & 45.0 & 135.0 & 90.0\\end{matrix}\\right]$",
            "text/plain": [
              "<IPython.core.display.Markdown object>"
            ]
          },
          "metadata": {}
        }
      ]
    },
    {
      "cell_type": "code",
      "source": [
        "fig, axes = plt.subplots(figsize=(12,7))\n",
        "vx,vy,bx,by = plot2(vertices,edges,boundary)\n",
        "\n",
        "for i in range(len(vx)):\n",
        "  plt.plot(vx[i],vy[i],\"b\")\n",
        "\n",
        "plt.plot(bx,by,\"or\",markersize=22)\n",
        "plt.grid()\n",
        "plt.show()"
      ],
      "metadata": {
        "colab": {
          "base_uri": "https://localhost:8080/",
          "height": 428
        },
        "id": "wnSZCvE-FtmO",
        "outputId": "8a23b77b-43a6-4bb0-ef74-afdb484b469b"
      },
      "execution_count": null,
      "outputs": [
        {
          "output_type": "display_data",
          "data": {
            "image/png": "[encoded data removed]",
            "text/plain": [
              "<Figure size 864x504 with 1 Axes>"
            ]
          },
          "metadata": {
            "needs_background": "light"
          }
        }
      ]
    },
    {
      "cell_type": "markdown",
      "source": [
        "#Forces"
      ],
      "metadata": {
        "id": "w4QjXM3BHZvl"
      }
    },
    {
      "cell_type": "code",
      "source": [
        "#/*--------------------------------*Python3*----------------------------------*\\\n",
        "#  =========                 |\n",
        "#  \\\\      /  F inite        | OpenFEO:  blanck\n",
        "#   \\\\    /   E lements      | Website:  blanck\n",
        "#    \\\\  /    O peration     | Version:  1\n",
        "#     \\\\/                    |\n",
        "#\\*---------------------------------------------------------------------------*/\n",
        "\n",
        "scaleF = 10**3\n",
        "\n",
        "Forces = [(1,0,-10),(2,0,-10)] #(vertice,Fx,Fy) "
      ],
      "metadata": {
        "id": "BxQnv1QHHfyt"
      },
      "execution_count": null,
      "outputs": []
    },
    {
      "cell_type": "markdown",
      "source": [
        "#Properties"
      ],
      "metadata": {
        "id": "tzr8DcM7IjzV"
      }
    },
    {
      "cell_type": "code",
      "source": [
        "#/*--------------------------------*Python3*----------------------------------*\\\n",
        "#  =========                 |\n",
        "#  \\\\      /  F inite        | OpenFEO:  blanck\n",
        "#   \\\\    /   E lements      | Website:  blanck\n",
        "#    \\\\  /    O peration     | Version:  1\n",
        "#     \\\\/                    |\n",
        "#\\*---------------------------------------------------------------------------*/\n",
        "\n",
        "scaleE = 10**9\n",
        "scaleD = 10**(-3)\n",
        "\n",
        "E = [200,200,200,200,200,200,200,200,200,200]\n",
        "D = [20,20,20,20,20,20,20,20,20,20]"
      ],
      "metadata": {
        "id": "vqN4KNd-JLqv"
      },
      "execution_count": null,
      "outputs": []
    },
    {
      "cell_type": "markdown",
      "source": [
        "#Ki calculate"
      ],
      "metadata": {
        "id": "bkkX8hSmKW2W"
      }
    },
    {
      "cell_type": "code",
      "source": [
        "Ki = []\n",
        "\n",
        "scaleK = scaleE*(scaleD**2)/convertToMeters\n",
        "printmd(np.array([scaleK]),\"escala = \")\n",
        "\n",
        "for i in range(len(distances)):\n",
        "  ca = np.cos(angles[i])\n",
        "  sa = np.sin(angles[i])\n",
        "  ki = E[i]*(np.pi*D[i]**2/4)/distances[i]*np.array([[ca**2,ca*sa],[ca*sa,sa**2]])\n",
        "  index = f\"{edges[i][0]},{edges[i][1]}\"\n",
        "  printmd(ki,\"k_{\"+index+\"}=\")\n",
        "  Ki.append(ki)"
      ],
      "metadata": {
        "colab": {
          "base_uri": "https://localhost:8080/",
          "height": 517
        },
        "id": "V3od-yZ6KbB_",
        "outputId": "606009a8-8db4-45b9-90c9-8d1327e4d627"
      },
      "execution_count": null,
      "outputs": [
        {
          "output_type": "display_data",
          "data": {
            "text/markdown": "$escala = \\left[\\begin{matrix}1000.0\\end{matrix}\\right]$",
            "text/plain": [
              "<IPython.core.display.Markdown object>"
            ]
          },
          "metadata": {}
        },
        {
          "output_type": "display_data",
          "data": {
            "text/markdown": "$k_{0,1}=\\left[\\begin{matrix}62831.853 & 0.0\\\\0.0 & 0.0\\end{matrix}\\right]$",
            "text/plain": [
              "<IPython.core.display.Markdown object>"
            ]
          },
          "metadata": {}
        },
        {
          "output_type": "display_data",
          "data": {
            "text/markdown": "$k_{1,2}=\\left[\\begin{matrix}62831.853 & 0.0\\\\0.0 & 0.0\\end{matrix}\\right]$",
            "text/plain": [
              "<IPython.core.display.Markdown object>"
            ]
          },
          "metadata": {}
        },
        {
          "output_type": "display_data",
          "data": {
            "text/markdown": "$k_{2,3}=\\left[\\begin{matrix}0.0 & 0.0\\\\0.0 & 62831.853\\end{matrix}\\right]$",
            "text/plain": [
              "<IPython.core.display.Markdown object>"
            ]
          },
          "metadata": {}
        },
        {
          "output_type": "display_data",
          "data": {
            "text/markdown": "$k_{3,4}=\\left[\\begin{matrix}62831.853 & 0.0\\\\0.0 & 0.0\\end{matrix}\\right]$",
            "text/plain": [
              "<IPython.core.display.Markdown object>"
            ]
          },
          "metadata": {}
        },
        {
          "output_type": "display_data",
          "data": {
            "text/markdown": "$k_{4,5}=\\left[\\begin{matrix}62831.853 & 0.0\\\\0.0 & 0.0\\end{matrix}\\right]$",
            "text/plain": [
              "<IPython.core.display.Markdown object>"
            ]
          },
          "metadata": {}
        },
        {
          "output_type": "display_data",
          "data": {
            "text/markdown": "$k_{0,4}=\\left[\\begin{matrix}22214.415 & 22214.415\\\\22214.415 & 22214.415\\end{matrix}\\right]$",
            "text/plain": [
              "<IPython.core.display.Markdown object>"
            ]
          },
          "metadata": {}
        },
        {
          "output_type": "display_data",
          "data": {
            "text/markdown": "$k_{1,5}=\\left[\\begin{matrix}22214.415 & -22214.415\\\\-22214.415 & 22214.415\\end{matrix}\\right]$",
            "text/plain": [
              "<IPython.core.display.Markdown object>"
            ]
          },
          "metadata": {}
        },
        {
          "output_type": "display_data",
          "data": {
            "text/markdown": "$k_{1,3}=\\left[\\begin{matrix}22214.415 & 22214.415\\\\22214.415 & 22214.415\\end{matrix}\\right]$",
            "text/plain": [
              "<IPython.core.display.Markdown object>"
            ]
          },
          "metadata": {}
        },
        {
          "output_type": "display_data",
          "data": {
            "text/markdown": "$k_{2,4}=\\left[\\begin{matrix}22214.415 & -22214.415\\\\-22214.415 & 22214.415\\end{matrix}\\right]$",
            "text/plain": [
              "<IPython.core.display.Markdown object>"
            ]
          },
          "metadata": {}
        },
        {
          "output_type": "display_data",
          "data": {
            "text/markdown": "$k_{1,4}=\\left[\\begin{matrix}0.0 & 0.0\\\\0.0 & 62831.853\\end{matrix}\\right]$",
            "text/plain": [
              "<IPython.core.display.Markdown object>"
            ]
          },
          "metadata": {}
        }
      ]
    },
    {
      "cell_type": "markdown",
      "source": [
        "#K create"
      ],
      "metadata": {
        "id": "adpJ9QUONUX-"
      }
    },
    {
      "cell_type": "code",
      "source": [
        "nk = len(vertices)\n",
        "K = np.zeros((2*nk,2*nk))\n",
        "Ks = np.zeros((2*nk,2*nk))\n",
        "\n",
        "for i in range(len(distances)):\n",
        "  j,k = edges[i]\n",
        "  K[j*2:j*2+2,j*2:j*2+2]=Ki[i]\n",
        "  K[k*2:k*2+2,k*2:k*2+2]=Ki[i]\n",
        "  K[k*2:k*2+2,j*2:j*2+2]=-Ki[i]\n",
        "  K[j*2:j*2+2,k*2:k*2+2]=-Ki[i]\n",
        "  Ks = Ks + K\n",
        "  K = np.zeros((2*nk,2*nk))\n",
        "\n",
        "printmd(Ks,\"\\\\small K=\")"
      ],
      "metadata": {
        "colab": {
          "base_uri": "https://localhost:8080/",
          "height": 269
        },
        "id": "R2rRfviwNW_F",
        "outputId": "8445c8dc-a51f-435d-8f54-8cf71bcfc5a6"
      },
      "execution_count": null,
      "outputs": [
        {
          "output_type": "display_data",
          "data": {
            "text/markdown": "$\\small K=\\left[\\begin{array}{cccccccccccc}85046.268 & 22214.415 & -62831.853 & 0.0 & 0.0 & 0.0 & 0.0 & 0.0 & -22214.415 & -22214.415 & 0.0 & 0.0\\\\22214.415 & 22214.415 & 0.0 & 0.0 & 0.0 & 0.0 & 0.0 & 0.0 & -22214.415 & -22214.415 & 0.0 & 0.0\\\\-62831.853 & 0.0 & 170092.536 & 0.0 & -62831.853 & 0.0 & -22214.415 & -22214.415 & 0.0 & 0.0 & -22214.415 & 22214.415\\\\0.0 & 0.0 & 0.0 & 107260.682 & 0.0 & 0.0 & -22214.415 & -22214.415 & 0.0 & -62831.853 & 22214.415 & -22214.415\\\\0.0 & 0.0 & -62831.853 & 0.0 & 85046.268 & -22214.415 & 0.0 & 0.0 & -22214.415 & 22214.415 & 0.0 & 0.0\\\\0.0 & 0.0 & 0.0 & 0.0 & -22214.415 & 85046.268 & 0.0 & -62831.853 & 22214.415 & -22214.415 & 0.0 & 0.0\\\\0.0 & 0.0 & -22214.415 & -22214.415 & 0.0 & 0.0 & 85046.268 & 22214.415 & -62831.853 & 0.0 & 0.0 & 0.0\\\\0.0 & 0.0 & -22214.415 & -22214.415 & 0.0 & -62831.853 & 22214.415 & 85046.268 & 0.0 & 0.0 & 0.0 & 0.0\\\\-22214.415 & -22214.415 & 0.0 & 0.0 & -22214.415 & 22214.415 & -62831.853 & 0.0 & 170092.536 & 0.0 & -62831.853 & 0.0\\\\-22214.415 & -22214.415 & 0.0 & -62831.853 & 22214.415 & -22214.415 & 0.0 & 0.0 & 0.0 & 107260.682 & 0.0 & 0.0\\\\0.0 & 0.0 & -22214.415 & 22214.415 & 0.0 & 0.0 & 0.0 & 0.0 & -62831.853 & 0.0 & 85046.268 & -22214.415\\\\0.0 & 0.0 & 22214.415 & -22214.415 & 0.0 & 0.0 & 0.0 & 0.0 & 0.0 & 0.0 & -22214.415 & 22214.415\\end{array}\\right]$",
            "text/plain": [
              "<IPython.core.display.Markdown object>"
            ]
          },
          "metadata": {}
        }
      ]
    },
    {
      "cell_type": "markdown",
      "source": [
        "#Forces array"
      ],
      "metadata": {
        "id": "o7X1H579TnAc"
      }
    },
    {
      "cell_type": "code",
      "source": [
        "F = np.zeros((nk*2,1))\n",
        "\n",
        "ias = []\n",
        "ifs = []\n",
        "\n",
        "for force in Forces:\n",
        "  ia,fxi,fyi = force\n",
        "  ias.append(ia)\n",
        "  ifs.append(np.array([[fxi,fyi]]).T)\n",
        "\n",
        "for i,fi in zip(ias,ifs):\n",
        "  F[i*2:i*2+2] = fi\n",
        "\n",
        "printmd(F,\"F=\")"
      ],
      "metadata": {
        "colab": {
          "base_uri": "https://localhost:8080/",
          "height": 272
        },
        "id": "x8ppczIZTmT8",
        "outputId": "e9de68ae-75ed-4a12-91fa-b8db91cae086"
      },
      "execution_count": null,
      "outputs": [
        {
          "output_type": "display_data",
          "data": {
            "text/markdown": "$F=\\left[\\begin{matrix}0.0\\\\0.0\\\\0.0\\\\-10.0\\\\0.0\\\\-10.0\\\\0.0\\\\0.0\\\\0.0\\\\0.0\\\\0.0\\\\0.0\\end{matrix}\\right]$",
            "text/plain": [
              "<IPython.core.display.Markdown object>"
            ]
          },
          "metadata": {}
        }
      ]
    },
    {
      "cell_type": "markdown",
      "source": [
        "#Displacement Effect"
      ],
      "metadata": {
        "id": "rD4G7XzbX8_m"
      }
    },
    {
      "cell_type": "code",
      "source": [
        "index = []\n",
        "\n",
        "for bi in boundary:\n",
        "  if bi[1]:\n",
        "    index.append(bi[0]*2)\n",
        "  if bi[2]:\n",
        "    index.append(bi[0]*2+1)\n",
        "\n",
        "print(index)\n",
        "\n",
        "F_fix = F.copy()\n",
        "K_fix = Ks.copy()\n",
        "\n",
        "for i in index:\n",
        "  F_fix[i]= 0\n",
        "  K_fix[i,:]=0\n",
        "  K_fix[i,i]=1\n",
        "\n",
        "printmd(F_fix,\"F=\")\n",
        "printmd(K_fix,\"K=\")"
      ],
      "metadata": {
        "colab": {
          "base_uri": "https://localhost:8080/",
          "height": 582
        },
        "id": "2lRzkQ3nYKue",
        "outputId": "ecf7455b-8ad2-4de7-eecf-7a7ef8222cb5"
      },
      "execution_count": null,
      "outputs": [
        {
          "output_type": "stream",
          "name": "stdout",
          "text": [
            "[0, 1, 10, 11]\n"
          ]
        },
        {
          "output_type": "display_data",
          "data": {
            "text/markdown": "$F=\\left[\\begin{matrix}0.0\\\\0.0\\\\0.0\\\\-10.0\\\\0.0\\\\-10.0\\\\0.0\\\\0.0\\\\0.0\\\\0.0\\\\0.0\\\\0.0\\end{matrix}\\right]$",
            "text/plain": [
              "<IPython.core.display.Markdown object>"
            ]
          },
          "metadata": {}
        },
        {
          "output_type": "display_data",
          "data": {
            "text/markdown": "$K=\\left[\\begin{array}{cccccccccccc}1.0 & 0.0 & 0.0 & 0.0 & 0.0 & 0.0 & 0.0 & 0.0 & 0.0 & 0.0 & 0.0 & 0.0\\\\0.0 & 1.0 & 0.0 & 0.0 & 0.0 & 0.0 & 0.0 & 0.0 & 0.0 & 0.0 & 0.0 & 0.0\\\\-62831.853 & 0.0 & 170092.536 & 0.0 & -62831.853 & 0.0 & -22214.415 & -22214.415 & 0.0 & 0.0 & -22214.415 & 22214.415\\\\0.0 & 0.0 & 0.0 & 107260.682 & 0.0 & 0.0 & -22214.415 & -22214.415 & 0.0 & -62831.853 & 22214.415 & -22214.415\\\\0.0 & 0.0 & -62831.853 & 0.0 & 85046.268 & -22214.415 & 0.0 & 0.0 & -22214.415 & 22214.415 & 0.0 & 0.0\\\\0.0 & 0.0 & 0.0 & 0.0 & -22214.415 & 85046.268 & 0.0 & -62831.853 & 22214.415 & -22214.415 & 0.0 & 0.0\\\\0.0 & 0.0 & -22214.415 & -22214.415 & 0.0 & 0.0 & 85046.268 & 22214.415 & -62831.853 & 0.0 & 0.0 & 0.0\\\\0.0 & 0.0 & -22214.415 & -22214.415 & 0.0 & -62831.853 & 22214.415 & 85046.268 & 0.0 & 0.0 & 0.0 & 0.0\\\\-22214.415 & -22214.415 & 0.0 & 0.0 & -22214.415 & 22214.415 & -62831.853 & 0.0 & 170092.536 & 0.0 & -62831.853 & 0.0\\\\-22214.415 & -22214.415 & 0.0 & -62831.853 & 22214.415 & -22214.415 & 0.0 & 0.0 & 0.0 & 107260.682 & 0.0 & 0.0\\\\0.0 & 0.0 & 0.0 & 0.0 & 0.0 & 0.0 & 0.0 & 0.0 & 0.0 & 0.0 & 1.0 & 0.0\\\\0.0 & 0.0 & 0.0 & 0.0 & 0.0 & 0.0 & 0.0 & 0.0 & 0.0 & 0.0 & 0.0 & 1.0\\end{array}\\right]$",
            "text/plain": [
              "<IPython.core.display.Markdown object>"
            ]
          },
          "metadata": {}
        }
      ]
    },
    {
      "cell_type": "markdown",
      "source": [
        "#Solve Displacement"
      ],
      "metadata": {
        "id": "VDl-iryLbHjF"
      }
    },
    {
      "cell_type": "code",
      "source": [
        "scaleU = scaleF/scaleK\n",
        "\n",
        "U = np.linalg.solve(K_fix,F_fix)*scaleU\n",
        "printmd(U,\"U=\",\"(m)\")"
      ],
      "metadata": {
        "colab": {
          "base_uri": "https://localhost:8080/",
          "height": 272
        },
        "id": "m3KBPMl9bLDM",
        "outputId": "dc1946ab-ab9a-4443-a075-7e2d441a7e3f"
      },
      "execution_count": null,
      "outputs": [
        {
          "output_type": "display_data",
          "data": {
            "text/markdown": "$U=\\left[\\begin{matrix}0.0\\\\0.0\\\\0.0\\\\-0.001\\\\0.0\\\\-0.002\\\\0.0\\\\-0.002\\\\0.0\\\\-0.001\\\\0.0\\\\0.0\\end{matrix}\\right](m)$",
            "text/plain": [
              "<IPython.core.display.Markdown object>"
            ]
          },
          "metadata": {}
        }
      ]
    },
    {
      "cell_type": "markdown",
      "source": [
        "#Displacement Plot"
      ],
      "metadata": {
        "id": "jWrxrNkVnnn8"
      }
    },
    {
      "cell_type": "code",
      "source": [
        "#@title\n",
        "scale_factor = 100  #@param {type:\"slider\", min:1, max:100, step:1}\n",
        "\n",
        "Uvert = np.zeros((len(vertices),2))\n",
        "\n",
        "for i in range(len(vertices)):\n",
        "  Uvert[i,:] = np.reshape(U[2*i:2*i+2],(2))\n",
        "\n",
        "Dispv = vertices+Uvert*scale_factor\n",
        "\n",
        "figd, axesd = plt.subplots(figsize=(12,7))\n",
        "vxd,vyd,bxd,byd = plot2(Dispv,edges,boundary)\n",
        "\n",
        "for i in range(len(vx)):\n",
        "  plt.plot(vx[i],vy[i],\"--g\")\n",
        "\n",
        "for i in range(len(vx)):\n",
        "  plt.plot(vxd[i],vyd[i],\"b\")\n",
        "\n",
        "plt.plot(bx,by,\"or\",markersize=22)\n",
        "plt.grid()\n",
        "plt.show()"
      ],
      "metadata": {
        "colab": {
          "base_uri": "https://localhost:8080/",
          "height": 428
        },
        "cellView": "form",
        "id": "gZ_aKbCznm60",
        "outputId": "9f0c4803-dd7d-4374-9b07-dcff59a715c5"
      },
      "execution_count": null,
      "outputs": [
        {
          "output_type": "display_data",
          "data": {
            "image/png": "[encoded data removed]",
            "text/plain": [
              "<Figure size 864x504 with 1 Axes>"
            ]
          },
          "metadata": {
            "needs_background": "light"
          }
        }
      ]
    },
    {
      "cell_type": "markdown",
      "source": [
        "#Reactions"
      ],
      "metadata": {
        "id": "4B4iFVrFuplc"
      }
    },
    {
      "cell_type": "code",
      "source": [
        "#@title\n",
        "K_react = []\n",
        "\n",
        "for i in index:\n",
        "  K_react.append(Ks[i,:])\n",
        "\n",
        "K_react = np.array(K_react)\n",
        "\n",
        "printmd(K_react,\"K_{react}=\")"
      ],
      "metadata": {
        "colab": {
          "base_uri": "https://localhost:8080/",
          "height": 132
        },
        "cellView": "form",
        "id": "A7sPe_-uutyb",
        "outputId": "7883aa97-4599-4653-ce10-b37b60464336"
      },
      "execution_count": null,
      "outputs": [
        {
          "output_type": "display_data",
          "data": {
            "text/markdown": "$K_{react}=\\left[\\begin{array}{cccccccccccc}85046.268 & 22214.415 & -62831.853 & 0.0 & 0.0 & 0.0 & 0.0 & 0.0 & -22214.415 & -22214.415 & 0.0 & 0.0\\\\22214.415 & 22214.415 & 0.0 & 0.0 & 0.0 & 0.0 & 0.0 & 0.0 & -22214.415 & -22214.415 & 0.0 & 0.0\\\\0.0 & 0.0 & -22214.415 & 22214.415 & 0.0 & 0.0 & 0.0 & 0.0 & -62831.853 & 0.0 & 85046.268 & -22214.415\\\\0.0 & 0.0 & 22214.415 & -22214.415 & 0.0 & 0.0 & 0.0 & 0.0 & 0.0 & 0.0 & -22214.415 & 22214.415\\end{array}\\right]$",
            "text/plain": [
              "<IPython.core.display.Markdown object>"
            ]
          },
          "metadata": {}
        }
      ]
    },
    {
      "cell_type": "code",
      "source": [
        "F_react = K_react@U\n",
        "printmd(F_react,\"R=\",\"(kN) \\\\quad global \\\\ coordinates\")"
      ],
      "metadata": {
        "colab": {
          "base_uri": "https://localhost:8080/",
          "height": 110
        },
        "id": "rLS99x_kvuk8",
        "outputId": "9491a277-7351-4523-9a54-afcb27a79a74"
      },
      "execution_count": null,
      "outputs": [
        {
          "output_type": "display_data",
          "data": {
            "text/markdown": "$R=\\left[\\begin{matrix}30.0\\\\9.536\\\\-30.0\\\\10.464\\end{matrix}\\right](kN) \\quad global \\ coordinates$",
            "text/plain": [
              "<IPython.core.display.Markdown object>"
            ]
          },
          "metadata": {}
        }
      ]
    },
    {
      "cell_type": "markdown",
      "source": [
        "#Efforts"
      ],
      "metadata": {
        "id": "q6eiQUTuyDxM"
      }
    },
    {
      "cell_type": "code",
      "source": [
        "efforts = []\n",
        "scaleEff = scaleF/(scaleD**2)\n",
        "\n",
        "for i in range(len(edges)):\n",
        "  vi,vj = edges[i]\n",
        "  ca = np.cos(angles[i])\n",
        "  sa = np.sin(angles[i])\n",
        "  qi = np.vstack((U[vi*2:vi*2+2],U[vj*2:vj*2+2]))\n",
        "  effort = E[i]/distances[i]*np.array([-ca,-sa,ca,sa])@qi\n",
        "  efforts.append(effort)\n",
        "  effort = effort*scaleEff/(10**6)\n",
        "  txt = f\"{vi},{vj}\"\n",
        "  printmd(effort,\"\\sigma_{\"+txt+\"} =\",\"(MPa)\")\n",
        "\n",
        "efforts = np.array(efforts)"
      ],
      "metadata": {
        "colab": {
          "base_uri": "https://localhost:8080/",
          "height": 294
        },
        "id": "KqgqpbDQyTQT",
        "outputId": "b5e9de1f-a69f-4fd5-ec2a-348f97c08099"
      },
      "execution_count": null,
      "outputs": [
        {
          "output_type": "display_data",
          "data": {
            "text/markdown": "$\\sigma_{0,1} =\\left[\\begin{matrix}-65.137\\end{matrix}\\right](MPa)$",
            "text/plain": [
              "<IPython.core.display.Markdown object>"
            ]
          },
          "metadata": {}
        },
        {
          "output_type": "display_data",
          "data": {
            "text/markdown": "$\\sigma_{1,2} =\\left[\\begin{matrix}-19.059\\end{matrix}\\right](MPa)$",
            "text/plain": [
              "<IPython.core.display.Markdown object>"
            ]
          },
          "metadata": {}
        },
        {
          "output_type": "display_data",
          "data": {
            "text/markdown": "$\\sigma_{2,3} =\\left[\\begin{matrix}12.772\\end{matrix}\\right](MPa)$",
            "text/plain": [
              "<IPython.core.display.Markdown object>"
            ]
          },
          "metadata": {}
        },
        {
          "output_type": "display_data",
          "data": {
            "text/markdown": "$\\sigma_{3,4} =\\left[\\begin{matrix}12.772\\end{matrix}\\right](MPa)$",
            "text/plain": [
              "<IPython.core.display.Markdown object>"
            ]
          },
          "metadata": {}
        },
        {
          "output_type": "display_data",
          "data": {
            "text/markdown": "$\\sigma_{4,5} =\\left[\\begin{matrix}62.187\\end{matrix}\\right](MPa)$",
            "text/plain": [
              "<IPython.core.display.Markdown object>"
            ]
          },
          "metadata": {}
        },
        {
          "output_type": "display_data",
          "data": {
            "text/markdown": "$\\sigma_{0,4} =\\left[\\begin{matrix}-42.929\\end{matrix}\\right](MPa)$",
            "text/plain": [
              "<IPython.core.display.Markdown object>"
            ]
          },
          "metadata": {}
        },
        {
          "output_type": "display_data",
          "data": {
            "text/markdown": "$\\sigma_{1,5} =\\left[\\begin{matrix}47.102\\end{matrix}\\right](MPa)$",
            "text/plain": [
              "<IPython.core.display.Markdown object>"
            ]
          },
          "metadata": {}
        },
        {
          "output_type": "display_data",
          "data": {
            "text/markdown": "$\\sigma_{1,3} =\\left[\\begin{matrix}-18.062\\end{matrix}\\right](MPa)$",
            "text/plain": [
              "<IPython.core.display.Markdown object>"
            ]
          },
          "metadata": {}
        },
        {
          "output_type": "display_data",
          "data": {
            "text/markdown": "$\\sigma_{2,4} =\\left[\\begin{matrix}26.953\\end{matrix}\\right](MPa)$",
            "text/plain": [
              "<IPython.core.display.Markdown object>"
            ]
          },
          "metadata": {}
        },
        {
          "output_type": "display_data",
          "data": {
            "text/markdown": "$\\sigma_{1,4} =\\left[\\begin{matrix}11.297\\end{matrix}\\right](MPa)$",
            "text/plain": [
              "<IPython.core.display.Markdown object>"
            ]
          },
          "metadata": {}
        }
      ]
    },
    {
      "cell_type": "markdown",
      "source": [
        "#Effort Plot"
      ],
      "metadata": {
        "id": "iJZoPFnZ3jX5"
      }
    },
    {
      "cell_type": "code",
      "source": [
        "#@title \n",
        "fig, axes = plt.subplots(figsize=(12,7))\n",
        "vx,vy,bx,by = plot2(vertices,edges,boundary)\n",
        "\n",
        "normeff = (efforts - np.min(efforts))/np.ptp(efforts)\n",
        "\n",
        "normeff = normeff.reshape(len(vx),)\n",
        "\n",
        "map_color = color.color_mapper([0,1], cmap='seismic_r')\n",
        "\n",
        "printmd(np.array([]),\"Tension \\\\ (Azul)\")\n",
        "printmd(np.array([]),\"Compresion\\\\ (Rojo)\")\n",
        "\n",
        "for i in range(len(vx)):\n",
        "  plt.plot(vxd[i],vyd[i], color=map_color(normeff[i]),linewidth=7.0)\n",
        "\n",
        "plt.plot(bx,by,\"og\",markersize=22)\n",
        "plt.grid()\n",
        "plt.show()\n"
      ],
      "metadata": {
        "colab": {
          "base_uri": "https://localhost:8080/",
          "height": 488
        },
        "cellView": "form",
        "id": "eoj7tMLqBtYD",
        "outputId": "2d59159f-2750-4077-a0b5-17fe38f40415"
      },
      "execution_count": null,
      "outputs": [
        {
          "output_type": "display_data",
          "data": {
            "text/markdown": "$Tension \\ (Azul)\\left[\\begin{matrix}\\end{matrix}\\right]$",
            "text/plain": [
              "<IPython.core.display.Markdown object>"
            ]
          },
          "metadata": {}
        },
        {
          "output_type": "display_data",
          "data": {
            "text/markdown": "$Compresion\\ (Rojo)\\left[\\begin{matrix}\\end{matrix}\\right]$",
            "text/plain": [
              "<IPython.core.display.Markdown object>"
            ]
          },
          "metadata": {}
        },
        {
          "output_type": "display_data",
          "data": {
            "image/png": "[encoded data removed]",
            "text/plain": [
              "<Figure size 864x504 with 1 Axes>"
            ]
          },
          "metadata": {
            "needs_background": "light"
          }
        }
      ]
    }
  ]
}